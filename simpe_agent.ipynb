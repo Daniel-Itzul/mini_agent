{
 "cells": [
  {
   "cell_type": "code",
   "execution_count": 1,
   "id": "d6717e73-fcac-4d57-96c0-d87c05f06c2f",
   "metadata": {},
   "outputs": [],
   "source": [
    "from openai import OpenAI\n",
    "import json\n",
    "import inspect"
   ]
  },
  {
   "cell_type": "code",
   "execution_count": 2,
   "id": "00de9d73-5f8b-4be9-9cea-ba7d20bd4e13",
   "metadata": {},
   "outputs": [],
   "source": [
    "with open('configs.json', 'r') as file:\n",
    "    configs=json.load(file)"
   ]
  },
  {
   "cell_type": "code",
   "execution_count": 3,
   "id": "515a6b17-6d23-4787-81d3-e1d3cd165208",
   "metadata": {},
   "outputs": [],
   "source": [
    "client = OpenAI(api_key = configs['open_ai_key'])"
   ]
  },
  {
   "cell_type": "code",
   "execution_count": 5,
   "id": "08f2b01a-1b29-416c-aa3b-23febb0c6f03",
   "metadata": {},
   "outputs": [],
   "source": [
    "# Define the system prompt\n",
    "system_prompt = \"\"\"\n",
    "You are a customer service assistant. \n",
    "1. Classify the user's question into one of the following categories: shipping, malfunction, billing, or other. \n",
    "2. Then, call the corresponding function to handle the query.\n",
    "\"\"\""
   ]
  },
  {
   "cell_type": "code",
   "execution_count": 6,
   "id": "8835cfac-4cc6-4622-84b9-f80c1f5d8038",
   "metadata": {},
   "outputs": [],
   "source": [
    "def handle_shipping(query):\n",
    "    print(f\"Your question is related to shipping: {query}\")\n",
    "\n",
    "def handle_malfunction(query):\n",
    "    print(f\"Your question is related to malfunction: {query}\")\n",
    "\n",
    "def handle_billing(query):\n",
    "    print(f\"Your question is related to billing: {query}\")\n",
    "\n",
    "def handle_other(query):\n",
    "    print(f\"Your question is related to unknown topics\")"
   ]
  },
  {
   "cell_type": "code",
   "execution_count": 7,
   "id": "c39da44e-c3e2-4fcd-bac1-51ad6e7fd2e6",
   "metadata": {},
   "outputs": [],
   "source": [
    "def function_to_schema(func) -> dict:\n",
    "    type_map = {\n",
    "        str: \"string\",\n",
    "        int: \"integer\",\n",
    "        float: \"number\",\n",
    "        bool: \"boolean\",\n",
    "        list: \"array\",\n",
    "        dict: \"object\",\n",
    "        type(None): \"null\",\n",
    "    }\n",
    "\n",
    "    try:\n",
    "        signature = inspect.signature(func)\n",
    "    except ValueError as e:\n",
    "        raise ValueError(\n",
    "            f\"Failed to get signature for function {func.__name__}: {str(e)}\"\n",
    "        )\n",
    "\n",
    "    parameters = {}\n",
    "    for param in signature.parameters.values():\n",
    "        try:\n",
    "            param_type = type_map.get(param.annotation, \"string\")\n",
    "        except KeyError as e:\n",
    "            raise KeyError(\n",
    "                f\"Unknown type annotation {param.annotation} for parameter {param.name}: {str(e)}\"\n",
    "            )\n",
    "        parameters[param.name] = {\"type\": param_type}\n",
    "\n",
    "    required = [\n",
    "        param.name\n",
    "        for param in signature.parameters.values()\n",
    "        if param.default == inspect._empty\n",
    "    ]\n",
    "\n",
    "    return {\n",
    "        \"type\": \"function\",\n",
    "        \"function\": {\n",
    "            \"name\": func.__name__,\n",
    "            \"description\": (func.__doc__ or \"\").strip(),\n",
    "            \"parameters\": {\n",
    "                \"type\": \"object\",\n",
    "                \"properties\": parameters,\n",
    "                \"required\": required,\n",
    "            },\n",
    "        },\n",
    "    }"
   ]
  },
  {
   "cell_type": "code",
   "execution_count": 8,
   "id": "88fd833b-57aa-4b11-b86c-89d5a7b41705",
   "metadata": {},
   "outputs": [],
   "source": [
    "tools = [handle_shipping, handle_malfunction, handle_billing, handle_other]\n",
    "tool_schemas = [function_to_schema(tool) for tool in tools]\n",
    "tools_map = {tool.__name__: tool for tool in tools}"
   ]
  },
  {
   "cell_type": "code",
   "execution_count": 9,
   "id": "1d627dcd-f990-4de7-bac0-0474700fab4f",
   "metadata": {},
   "outputs": [],
   "source": [
    "def call_agent(system_prompt, user_prompt, tool_schemas):\n",
    "    response = client.chat.completions.create(\n",
    "            model=\"gpt-4o-mini\",\n",
    "            messages=[{\"role\": \"system\", \"content\": system_prompt},\n",
    "                     {\"role\":\"user\",\"content\":user_prompt}],\n",
    "            tools=tool_schemas or None,\n",
    "        )\n",
    "    message = response.choices[0].message\n",
    "    for tool_call in message.tool_calls:\n",
    "        name = tool_call.function.name\n",
    "        args = json.loads(tool_call.function.arguments)\n",
    "        tools_map[name](**args)"
   ]
  },
  {
   "cell_type": "code",
   "execution_count": null,
   "id": "93743a0b-a229-45c6-9eec-9082414b2e92",
   "metadata": {},
   "outputs": [],
   "source": [
    "def see_response(system_prompt, user_prompt, tool_schemas):\n",
    "    response = client.chat.completions.create(\n",
    "            model=\"gpt-4o-mini\",\n",
    "            messages=[{\"role\": \"system\", \"content\": system_prompt},\n",
    "                     {\"role\":\"user\",\"content\":user_prompt}],\n",
    "            tools=tool_schemas or None,\n",
    "        )\n",
    "    return response"
   ]
  },
  {
   "cell_type": "code",
   "execution_count": 10,
   "id": "d7246cea-e057-45da-b95a-888265b32872",
   "metadata": {},
   "outputs": [
    {
     "name": "stdin",
     "output_type": "stream",
     "text": [
      "Enter your query:  What happened with my gaming console I just bought yesterday and it broke\n"
     ]
    },
    {
     "name": "stdout",
     "output_type": "stream",
     "text": [
      "Your question is related to malfunction: My gaming console I just bought yesterday broke.\n"
     ]
    }
   ],
   "source": [
    "prompt = input(\"Enter your query: \")\n",
    "call_agent(system_prompt, prompt, tool_schemas)"
   ]
  },
  {
   "cell_type": "code",
   "execution_count": null,
   "id": "f01dde5d-c5c7-4192-b0f5-92d93c1e3c90",
   "metadata": {},
   "outputs": [],
   "source": []
  },
  {
   "cell_type": "code",
   "execution_count": null,
   "id": "5b554418-ba78-45e6-8175-eec63b47a146",
   "metadata": {},
   "outputs": [],
   "source": []
  },
  {
   "cell_type": "code",
   "execution_count": null,
   "id": "6559598a-6c81-4e00-8a72-638198504b71",
   "metadata": {},
   "outputs": [],
   "source": []
  }
 ],
 "metadata": {
  "kernelspec": {
   "display_name": "Python 3 (ipykernel)",
   "language": "python",
   "name": "python3"
  },
  "language_info": {
   "codemirror_mode": {
    "name": "ipython",
    "version": 3
   },
   "file_extension": ".py",
   "mimetype": "text/x-python",
   "name": "python",
   "nbconvert_exporter": "python",
   "pygments_lexer": "ipython3",
   "version": "3.9.10"
  }
 },
 "nbformat": 4,
 "nbformat_minor": 5
}
